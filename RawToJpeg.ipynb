{
 "cells": [
  {
   "cell_type": "code",
   "execution_count": 20,
   "id": "initial_id",
   "metadata": {
    "collapsed": true,
    "ExecuteTime": {
     "end_time": "2024-05-12T20:15:58.652012900Z",
     "start_time": "2024-05-12T20:15:58.640015300Z"
    }
   },
   "outputs": [],
   "source": [
    "from PIL import Image\n",
    "import os\n",
    "from pathlib import Path\n",
    "import rawpy\n",
    "import imageio"
   ]
  },
  {
   "cell_type": "code",
   "outputs": [],
   "source": [
    "def convert_raw_to_jpeg(raw_file, path):\n",
    "    with rawpy.imread(raw_file) as raw:\n",
    "        image = raw.postprocess(\n",
    "            gamma=(1, 1)\n",
    "        )\n",
    "    imageio.imsave(path, image)"
   ],
   "metadata": {
    "collapsed": false,
    "ExecuteTime": {
     "end_time": "2024-05-12T20:21:03.102598Z",
     "start_time": "2024-05-12T20:21:03.095095300Z"
    }
   },
   "id": "f05d5dcd79adce74",
   "execution_count": 24
  },
  {
   "cell_type": "code",
   "outputs": [
    {
     "name": "stdout",
     "output_type": "stream",
     "text": [
      "RawImages\\P1330429.RW2\n"
     ]
    },
    {
     "ename": "SystemError",
     "evalue": "<class 'RuntimeError'> returned a result with an error set",
     "output_type": "error",
     "traceback": [
      "\u001B[1;31m---------------------------------------------------------------------------\u001B[0m",
      "\u001B[1;31mTypeError\u001B[0m                                 Traceback (most recent call last)",
      "\u001B[1;31mTypeError\u001B[0m: bad argument type for built-in operation",
      "\nThe above exception was the direct cause of the following exception:\n",
      "\u001B[1;31mSystemError\u001B[0m                               Traceback (most recent call last)",
      "Cell \u001B[1;32mIn[19], line 4\u001B[0m\n\u001B[0;32m      2\u001B[0m \u001B[38;5;28;01mfor\u001B[39;00m img \u001B[38;5;129;01min\u001B[39;00m path\u001B[38;5;241m.\u001B[39mglob(\u001B[38;5;124m'\u001B[39m\u001B[38;5;124m*.RW2\u001B[39m\u001B[38;5;124m'\u001B[39m):\n\u001B[0;32m      3\u001B[0m     \u001B[38;5;28mprint\u001B[39m(img)\n\u001B[1;32m----> 4\u001B[0m     \u001B[43mconvert_raw_to_jpeg\u001B[49m\u001B[43m(\u001B[49m\u001B[43mimg\u001B[49m\u001B[43m,\u001B[49m\u001B[43m \u001B[49m\u001B[43mpath\u001B[49m\u001B[43m)\u001B[49m\n",
      "Cell \u001B[1;32mIn[18], line 2\u001B[0m, in \u001B[0;36mconvert_raw_to_jpeg\u001B[1;34m(raw_file, path)\u001B[0m\n\u001B[0;32m      1\u001B[0m \u001B[38;5;28;01mdef\u001B[39;00m \u001B[38;5;21mconvert_raw_to_jpeg\u001B[39m(raw_file, path):\n\u001B[1;32m----> 2\u001B[0m     \u001B[38;5;28;01mwith\u001B[39;00m \u001B[43mrawpy\u001B[49m\u001B[38;5;241;43m.\u001B[39;49m\u001B[43mimread\u001B[49m\u001B[43m(\u001B[49m\u001B[43mraw_file\u001B[49m\u001B[43m)\u001B[49m \u001B[38;5;28;01mas\u001B[39;00m raw:\n\u001B[0;32m      3\u001B[0m         image \u001B[38;5;241m=\u001B[39m raw\u001B[38;5;241m.\u001B[39mpostprocess(\n\u001B[0;32m      4\u001B[0m             gamma\u001B[38;5;241m=\u001B[39m(\u001B[38;5;241m1\u001B[39m, \u001B[38;5;241m1\u001B[39m), no_auto_bright\u001B[38;5;241m=\u001B[39m\u001B[38;5;28;01mTrue\u001B[39;00m, output_bps\u001B[38;5;241m=\u001B[39m\u001B[38;5;241m16\u001B[39m\n\u001B[0;32m      5\u001B[0m         )\n\u001B[0;32m      6\u001B[0m     imageio\u001B[38;5;241m.\u001B[39mimsave(path, image)\n",
      "File \u001B[1;32m~\\Desktop\\Programming\\projects39\\lib\\site-packages\\rawpy\\__init__.py:20\u001B[0m, in \u001B[0;36mimread\u001B[1;34m(pathOrFile)\u001B[0m\n\u001B[0;32m     18\u001B[0m     d\u001B[38;5;241m.\u001B[39mopen_buffer(pathOrFile)\n\u001B[0;32m     19\u001B[0m \u001B[38;5;28;01melse\u001B[39;00m:\n\u001B[1;32m---> 20\u001B[0m     \u001B[43md\u001B[49m\u001B[38;5;241;43m.\u001B[39;49m\u001B[43mopen_file\u001B[49m\u001B[43m(\u001B[49m\u001B[43mpathOrFile\u001B[49m\u001B[43m)\u001B[49m\n\u001B[0;32m     21\u001B[0m \u001B[38;5;28;01mreturn\u001B[39;00m d\n",
      "File \u001B[1;32mrawpy\\\\_rawpy.pyx:404\u001B[0m, in \u001B[0;36mrawpy._rawpy.RawPy.open_file\u001B[1;34m()\u001B[0m\n",
      "\u001B[1;31mSystemError\u001B[0m: <class 'RuntimeError'> returned a result with an error set"
     ]
    }
   ],
   "source": [
    "path = Path('./RawImages')\n",
    "for img in path.glob('*.RW2'):\n",
    "    print(img)\n",
    "    convert_raw_to_jpeg(img, path)"
   ],
   "metadata": {
    "collapsed": false,
    "ExecuteTime": {
     "end_time": "2024-05-12T20:15:00.069541900Z",
     "start_time": "2024-05-12T20:15:00.017044500Z"
    }
   },
   "id": "38cb7b197a7df6",
   "execution_count": 19
  },
  {
   "cell_type": "code",
   "outputs": [],
   "source": [
    "RAW = '.RW2'\n",
    "JPEG = '.JPG'\n",
    "directory = r'./RawImages'\n",
    "for file in os.listdir(directory):\n",
    "    if file.endswith(RAW):\n",
    "        full_path = os.path.join(directory, file)\n",
    "        file_core = file.split('.')[0]\n",
    "        new_file = file_core + JPEG\n",
    "        full_path_output = os.path.join(directory, new_file)\n",
    "        convert_raw_to_jpeg(full_path, full_path_output)"
   ],
   "metadata": {
    "collapsed": false,
    "ExecuteTime": {
     "end_time": "2024-05-12T20:21:07.217502800Z",
     "start_time": "2024-05-12T20:21:05.820504200Z"
    }
   },
   "id": "7cd810a70e146998",
   "execution_count": 25
  },
  {
   "cell_type": "code",
   "outputs": [],
   "source": [],
   "metadata": {
    "collapsed": false
   },
   "id": "10417855418f7f9a"
  }
 ],
 "metadata": {
  "kernelspec": {
   "display_name": "Python 3",
   "language": "python",
   "name": "python3"
  },
  "language_info": {
   "codemirror_mode": {
    "name": "ipython",
    "version": 2
   },
   "file_extension": ".py",
   "mimetype": "text/x-python",
   "name": "python",
   "nbconvert_exporter": "python",
   "pygments_lexer": "ipython2",
   "version": "2.7.6"
  }
 },
 "nbformat": 4,
 "nbformat_minor": 5
}
