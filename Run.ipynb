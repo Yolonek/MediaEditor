{
 "cells": [
  {
   "cell_type": "code",
   "execution_count": 1,
   "id": "initial_id",
   "metadata": {
    "collapsed": true,
    "ExecuteTime": {
     "end_time": "2024-05-24T15:48:40.541167Z",
     "start_time": "2024-05-24T15:48:39.753668Z"
    }
   },
   "outputs": [],
   "source": [
    "from ImageFunctions import convert_code_to_formatted_font, remove_background_from_gif\n",
    "from pathlib import Path"
   ]
  },
  {
   "cell_type": "code",
   "outputs": [],
   "source": [
    "code = \"\"\"\n",
    "class Boid:\n",
    "    def __init__(self, position: tuple[int, int], angle: float, scale: float = 1, speed: int = 1):\n",
    "        ...\n",
    "\n",
    "    def create(self, position: tuple[int, int], angle: float, scale: float):\n",
    "        triangle_points = [\n",
    "            (0, 1 * scale),\n",
    "            (0, -1 * scale),\n",
    "            (3 * scale, 0)\n",
    "        ]\n",
    "\n",
    "        self.body = pymunk.Body(body_type=pymunk.Body.KINEMATIC)\n",
    "        self.body.position = position\n",
    "        self.body.angle = angle\n",
    "        self.shape = pymunk.Poly(self.body, triangle_points)\n",
    "        self.shape.color = (0, np.random.randint(low=100, high=200), 255, 255)\n",
    "\"\"\""
   ],
   "metadata": {
    "collapsed": false,
    "ExecuteTime": {
     "end_time": "2024-05-24T12:09:07.831039800Z",
     "start_time": "2024-05-24T12:09:07.820041800Z"
    }
   },
   "id": "565c7f4036944223",
   "execution_count": 2
  },
  {
   "cell_type": "code",
   "outputs": [],
   "source": [
    "format_params = dict(\n",
    "    style='nord-darker', \n",
    "    line_numbers=False, \n",
    "    font_name='Lucida Sans Unicode',\n",
    "    line_pad=6\n",
    ")\n",
    "gray_scale = (0, 50)\n",
    "save_path = Path(\"./outputs/CodeFormatters/code1.png\")"
   ],
   "metadata": {
    "collapsed": false,
    "ExecuteTime": {
     "end_time": "2024-05-24T12:09:07.851042600Z",
     "start_time": "2024-05-24T12:09:07.834043100Z"
    }
   },
   "id": "cb395a67beb44a8f",
   "execution_count": 3
  },
  {
   "cell_type": "code",
   "outputs": [],
   "source": [
    "convert_code_to_formatted_font(code, save_path, gray_scale, **format_params)"
   ],
   "metadata": {
    "collapsed": false,
    "ExecuteTime": {
     "end_time": "2024-05-24T12:09:40.205064800Z",
     "start_time": "2024-05-24T12:09:39.708564500Z"
    }
   },
   "id": "c2a220517894f6d7",
   "execution_count": 5
  },
  {
   "cell_type": "markdown",
   "source": [
    "Removing background from gif"
   ],
   "metadata": {
    "collapsed": false
   },
   "id": "7f6ff75fbdece0f"
  },
  {
   "cell_type": "code",
   "outputs": [],
   "source": [
    "gif_path = Path(r'C:\\Users\\thejg\\Desktop\\Studia\\BigDataAnalytics2024\\Seminars\\BoidsFlockingPresentation\\graphics\\slide3gif.gif')\n",
    "output_path = Path(r'C:\\Users\\thejg\\Desktop\\Programming\\MediaEditor\\outputs\\GIFS\\RemovingBackground\\slide3flock.gif')\n",
    "gray_scale = (0, 50)"
   ],
   "metadata": {
    "collapsed": false,
    "ExecuteTime": {
     "end_time": "2024-05-24T15:48:43.276166900Z",
     "start_time": "2024-05-24T15:48:43.258167800Z"
    }
   },
   "id": "9ff519bf9b8d68ec",
   "execution_count": 2
  },
  {
   "cell_type": "code",
   "outputs": [
    {
     "name": "stderr",
     "output_type": "stream",
     "text": [
      "0it [00:00, ?it/s]\n"
     ]
    },
    {
     "ename": "TypingError",
     "evalue": "Failed in nopython mode pipeline (step: nopython frontend)\n\u001B[1m\u001B[1mNo implementation of function Function(<built-in function setitem>) found for signature:\n \n >>> setitem(array(uint8, 3d, C), Tuple(array(bool, 2d, C), Literal[int](3)), Literal[int](0))\n \nThere are 16 candidate implementations:\n\u001B[1m  - Of which 14 did not match due to:\n  Overload of function 'setitem': File: <numerous>: Line N/A.\n    With argument(s): '(array(uint8, 3d, C), Tuple(array(bool, 2d, C), int64), int64)':\u001B[0m\n\u001B[1m   No match.\u001B[0m\n\u001B[1m  - Of which 2 did not match due to:\n  Overload in function 'SetItemBuffer.generic': File: numba\\core\\typing\\arraydecl.py: Line 219.\n    With argument(s): '(array(uint8, 3d, C), Tuple(array(bool, 2d, C), int64), int64)':\u001B[0m\n\u001B[1m   Rejected as the implementation raised a specific error:\n     NumbaTypeError: \u001B[1mMulti-dimensional indices are not supported.\u001B[0m\u001B[0m\n  raised from C:\\Users\\thejg\\Desktop\\Programming\\projects39\\lib\\site-packages\\numba\\core\\typing\\arraydecl.py:89\n\u001B[0m\n\u001B[0m\u001B[1mDuring: typing of setitem at C:\\Users\\thejg\\Desktop\\Programming\\MediaEditor\\ImageFunctions.py (30)\u001B[0m\n\u001B[1m\nFile \"ImageFunctions.py\", line 30:\u001B[0m\n\u001B[1mdef remove_background_from_numpy_image(image_array, gray_array, min_gray, max_gray):\n\u001B[1m    image_array[(gray_array >= min_gray) & (gray_array <= max_gray), 3] = 0\n\u001B[0m    \u001B[1m^\u001B[0m\u001B[0m\n",
     "output_type": "error",
     "traceback": [
      "\u001B[1;31m---------------------------------------------------------------------------\u001B[0m",
      "\u001B[1;31mTypingError\u001B[0m                               Traceback (most recent call last)",
      "Cell \u001B[1;32mIn[3], line 1\u001B[0m\n\u001B[1;32m----> 1\u001B[0m \u001B[43mremove_background_from_gif\u001B[49m\u001B[43m(\u001B[49m\u001B[43mgif_path\u001B[49m\u001B[43m,\u001B[49m\u001B[43m \u001B[49m\u001B[43moutput_path\u001B[49m\u001B[43m,\u001B[49m\u001B[43m \u001B[49m\u001B[38;5;241;43m*\u001B[39;49m\u001B[43mgray_scale\u001B[49m\u001B[43m,\u001B[49m\u001B[43m \u001B[49m\u001B[38;5;241;43m1000\u001B[39;49m\u001B[43m \u001B[49m\u001B[38;5;241;43m/\u001B[39;49m\u001B[43m \u001B[49m\u001B[38;5;241;43m30\u001B[39;49m\u001B[43m)\u001B[49m\n",
      "File \u001B[1;32m~\\Desktop\\Programming\\MediaEditor\\ImageFunctions.py:46\u001B[0m, in \u001B[0;36mremove_background_from_gif\u001B[1;34m(gif_path, output_path, lower_bg_color, upper_bg_color, duration)\u001B[0m\n\u001B[0;32m     44\u001B[0m frames \u001B[38;5;241m=\u001B[39m []\n\u001B[0;32m     45\u001B[0m \u001B[38;5;28;01mfor\u001B[39;00m frame \u001B[38;5;129;01min\u001B[39;00m tqdm(ImageSequence\u001B[38;5;241m.\u001B[39mIterator(gif)):\n\u001B[1;32m---> 46\u001B[0m     frames\u001B[38;5;241m.\u001B[39mappend(\u001B[43mremove_background_from_image\u001B[49m\u001B[43m(\u001B[49m\u001B[43mframe\u001B[49m\u001B[43m,\u001B[49m\u001B[43m \u001B[49m\u001B[43mlower_bg_color\u001B[49m\u001B[43m,\u001B[49m\u001B[43m \u001B[49m\u001B[43mupper_bg_color\u001B[49m\u001B[43m)\u001B[49m)\n\u001B[0;32m     47\u001B[0m frames[\u001B[38;5;241m0\u001B[39m]\u001B[38;5;241m.\u001B[39msave(output_path, save_all\u001B[38;5;241m=\u001B[39m\u001B[38;5;28;01mTrue\u001B[39;00m, append_images\u001B[38;5;241m=\u001B[39mframes[\u001B[38;5;241m1\u001B[39m:],\n\u001B[0;32m     48\u001B[0m                duration\u001B[38;5;241m=\u001B[39mduration, loop\u001B[38;5;241m=\u001B[39m\u001B[38;5;241m0\u001B[39m, disposal\u001B[38;5;241m=\u001B[39m\u001B[38;5;241m2\u001B[39m)\n",
      "File \u001B[1;32m~\\Desktop\\Programming\\MediaEditor\\ImageFunctions.py:38\u001B[0m, in \u001B[0;36mremove_background_from_image\u001B[1;34m(image, min_gray, max_gray)\u001B[0m\n\u001B[0;32m     36\u001B[0m img_array \u001B[38;5;241m=\u001B[39m np\u001B[38;5;241m.\u001B[39marray(rgba_image)\n\u001B[0;32m     37\u001B[0m gray_array \u001B[38;5;241m=\u001B[39m np\u001B[38;5;241m.\u001B[39marray(rgba_image\u001B[38;5;241m.\u001B[39mconvert(\u001B[38;5;124m\"\u001B[39m\u001B[38;5;124mL\u001B[39m\u001B[38;5;124m\"\u001B[39m))\n\u001B[1;32m---> 38\u001B[0m img_array \u001B[38;5;241m=\u001B[39m \u001B[43mremove_background_from_numpy_image\u001B[49m\u001B[43m(\u001B[49m\u001B[43mimg_array\u001B[49m\u001B[43m,\u001B[49m\u001B[43m \u001B[49m\u001B[43mgray_array\u001B[49m\u001B[43m,\u001B[49m\u001B[43m \u001B[49m\u001B[43mmin_gray\u001B[49m\u001B[43m,\u001B[49m\u001B[43m \u001B[49m\u001B[43mmax_gray\u001B[49m\u001B[43m)\u001B[49m\n\u001B[0;32m     39\u001B[0m \u001B[38;5;28;01mreturn\u001B[39;00m Image\u001B[38;5;241m.\u001B[39mfromarray(img_array, \u001B[38;5;124m'\u001B[39m\u001B[38;5;124mRGBA\u001B[39m\u001B[38;5;124m'\u001B[39m)\n",
      "File \u001B[1;32m~\\Desktop\\Programming\\projects39\\lib\\site-packages\\numba\\core\\dispatcher.py:468\u001B[0m, in \u001B[0;36m_DispatcherBase._compile_for_args\u001B[1;34m(self, *args, **kws)\u001B[0m\n\u001B[0;32m    464\u001B[0m         msg \u001B[38;5;241m=\u001B[39m (\u001B[38;5;124mf\u001B[39m\u001B[38;5;124m\"\u001B[39m\u001B[38;5;132;01m{\u001B[39;00m\u001B[38;5;28mstr\u001B[39m(e)\u001B[38;5;241m.\u001B[39mrstrip()\u001B[38;5;132;01m}\u001B[39;00m\u001B[38;5;124m \u001B[39m\u001B[38;5;130;01m\\n\u001B[39;00m\u001B[38;5;130;01m\\n\u001B[39;00m\u001B[38;5;124mThis error may have been caused \u001B[39m\u001B[38;5;124m\"\u001B[39m\n\u001B[0;32m    465\u001B[0m                \u001B[38;5;124mf\u001B[39m\u001B[38;5;124m\"\u001B[39m\u001B[38;5;124mby the following argument(s):\u001B[39m\u001B[38;5;130;01m\\n\u001B[39;00m\u001B[38;5;132;01m{\u001B[39;00margs_str\u001B[38;5;132;01m}\u001B[39;00m\u001B[38;5;130;01m\\n\u001B[39;00m\u001B[38;5;124m\"\u001B[39m)\n\u001B[0;32m    466\u001B[0m         e\u001B[38;5;241m.\u001B[39mpatch_message(msg)\n\u001B[1;32m--> 468\u001B[0m     \u001B[43merror_rewrite\u001B[49m\u001B[43m(\u001B[49m\u001B[43me\u001B[49m\u001B[43m,\u001B[49m\u001B[43m \u001B[49m\u001B[38;5;124;43m'\u001B[39;49m\u001B[38;5;124;43mtyping\u001B[39;49m\u001B[38;5;124;43m'\u001B[39;49m\u001B[43m)\u001B[49m\n\u001B[0;32m    469\u001B[0m \u001B[38;5;28;01mexcept\u001B[39;00m errors\u001B[38;5;241m.\u001B[39mUnsupportedError \u001B[38;5;28;01mas\u001B[39;00m e:\n\u001B[0;32m    470\u001B[0m     \u001B[38;5;66;03m# Something unsupported is present in the user code, add help info\u001B[39;00m\n\u001B[0;32m    471\u001B[0m     error_rewrite(e, \u001B[38;5;124m'\u001B[39m\u001B[38;5;124munsupported_error\u001B[39m\u001B[38;5;124m'\u001B[39m)\n",
      "File \u001B[1;32m~\\Desktop\\Programming\\projects39\\lib\\site-packages\\numba\\core\\dispatcher.py:409\u001B[0m, in \u001B[0;36m_DispatcherBase._compile_for_args.<locals>.error_rewrite\u001B[1;34m(e, issue_type)\u001B[0m\n\u001B[0;32m    407\u001B[0m     \u001B[38;5;28;01mraise\u001B[39;00m e\n\u001B[0;32m    408\u001B[0m \u001B[38;5;28;01melse\u001B[39;00m:\n\u001B[1;32m--> 409\u001B[0m     \u001B[38;5;28;01mraise\u001B[39;00m e\u001B[38;5;241m.\u001B[39mwith_traceback(\u001B[38;5;28;01mNone\u001B[39;00m)\n",
      "\u001B[1;31mTypingError\u001B[0m: Failed in nopython mode pipeline (step: nopython frontend)\n\u001B[1m\u001B[1mNo implementation of function Function(<built-in function setitem>) found for signature:\n \n >>> setitem(array(uint8, 3d, C), Tuple(array(bool, 2d, C), Literal[int](3)), Literal[int](0))\n \nThere are 16 candidate implementations:\n\u001B[1m  - Of which 14 did not match due to:\n  Overload of function 'setitem': File: <numerous>: Line N/A.\n    With argument(s): '(array(uint8, 3d, C), Tuple(array(bool, 2d, C), int64), int64)':\u001B[0m\n\u001B[1m   No match.\u001B[0m\n\u001B[1m  - Of which 2 did not match due to:\n  Overload in function 'SetItemBuffer.generic': File: numba\\core\\typing\\arraydecl.py: Line 219.\n    With argument(s): '(array(uint8, 3d, C), Tuple(array(bool, 2d, C), int64), int64)':\u001B[0m\n\u001B[1m   Rejected as the implementation raised a specific error:\n     NumbaTypeError: \u001B[1mMulti-dimensional indices are not supported.\u001B[0m\u001B[0m\n  raised from C:\\Users\\thejg\\Desktop\\Programming\\projects39\\lib\\site-packages\\numba\\core\\typing\\arraydecl.py:89\n\u001B[0m\n\u001B[0m\u001B[1mDuring: typing of setitem at C:\\Users\\thejg\\Desktop\\Programming\\MediaEditor\\ImageFunctions.py (30)\u001B[0m\n\u001B[1m\nFile \"ImageFunctions.py\", line 30:\u001B[0m\n\u001B[1mdef remove_background_from_numpy_image(image_array, gray_array, min_gray, max_gray):\n\u001B[1m    image_array[(gray_array >= min_gray) & (gray_array <= max_gray), 3] = 0\n\u001B[0m    \u001B[1m^\u001B[0m\u001B[0m\n"
     ]
    }
   ],
   "source": [
    "remove_background_from_gif(gif_path, output_path, *gray_scale, 1000 / 30)"
   ],
   "metadata": {
    "collapsed": false,
    "ExecuteTime": {
     "end_time": "2024-05-24T15:48:45.313168500Z",
     "start_time": "2024-05-24T15:48:44.338169200Z"
    }
   },
   "id": "5f1e8b2dd753dfda",
   "execution_count": 3
  },
  {
   "cell_type": "code",
   "outputs": [],
   "source": [],
   "metadata": {
    "collapsed": false
   },
   "id": "2ded43b6c5aa07ef"
  }
 ],
 "metadata": {
  "kernelspec": {
   "display_name": "Python 3",
   "language": "python",
   "name": "python3"
  },
  "language_info": {
   "codemirror_mode": {
    "name": "ipython",
    "version": 2
   },
   "file_extension": ".py",
   "mimetype": "text/x-python",
   "name": "python",
   "nbconvert_exporter": "python",
   "pygments_lexer": "ipython2",
   "version": "2.7.6"
  }
 },
 "nbformat": 4,
 "nbformat_minor": 5
}
