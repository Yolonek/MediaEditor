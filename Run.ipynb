{
 "cells": [
  {
   "cell_type": "code",
   "execution_count": 1,
   "id": "initial_id",
   "metadata": {
    "collapsed": true,
    "ExecuteTime": {
     "end_time": "2024-05-25T19:18:37.146393500Z",
     "start_time": "2024-05-25T19:18:34.564269100Z"
    }
   },
   "outputs": [],
   "source": [
    "from ImageFunctions import (convert_code_to_formatted_font, \n",
    "                            remove_background_from_gif,\n",
    "                            render_latex_equation,\n",
    "                            remove_background_from_image)\n",
    "from pathlib import Path\n",
    "from PIL import Image"
   ]
  },
  {
   "cell_type": "code",
   "outputs": [],
   "source": [
    "code = \"\"\"\n",
    "@numba.njit()\n",
    "def sum_of_squares(arr):\n",
    "    result = 0\n",
    "    for x in arr:\n",
    "        result += x ** 2\n",
    "    return result\n",
    "\"\"\""
   ],
   "metadata": {
    "collapsed": false,
    "ExecuteTime": {
     "end_time": "2024-05-25T20:23:21.173739400Z",
     "start_time": "2024-05-25T20:23:21.156241300Z"
    }
   },
   "id": "565c7f4036944223",
   "execution_count": 5
  },
  {
   "cell_type": "code",
   "outputs": [],
   "source": [
    "format_params = dict(\n",
    "    style='nord-darker', \n",
    "    line_numbers=False, \n",
    "    font_name='Lucida Sans Unicode',\n",
    "    line_pad=6,\n",
    "    font_size=30\n",
    ")\n",
    "gray_scale = (0, 50)\n",
    "save_path = Path(\"./outputs/CodeFormatters/code6.png\")\n",
    "convert_code_to_formatted_font(code, save_path, gray_scale, **format_params)"
   ],
   "metadata": {
    "collapsed": false,
    "ExecuteTime": {
     "end_time": "2024-05-25T20:23:21.402242600Z",
     "start_time": "2024-05-25T20:23:21.333741700Z"
    }
   },
   "id": "cb395a67beb44a8f",
   "execution_count": 6
  },
  {
   "cell_type": "code",
   "outputs": [],
   "source": [
    "image_path = Path(r'C:\\Users\\thejg\\Desktop\\Studia\\BigDataAnalytics2024\\Seminars\\BoidsFlockingPresentation\\graphics\\slide14black.png')\n",
    "image_out = Path(r'C:\\Users\\thejg\\Desktop\\Programming\\MediaEditor\\outputs\\GIFS\\RemovingBackground\\img1.png')\n",
    "img = Image.open(image_path)\n",
    "img = remove_background_from_image(img, 0, 20)\n",
    "img.save(image_out, quality=95)"
   ],
   "metadata": {
    "collapsed": false,
    "ExecuteTime": {
     "end_time": "2024-05-25T19:08:37.045076300Z",
     "start_time": "2024-05-25T19:08:37.005576400Z"
    }
   },
   "id": "4dcbf334ef1f7a60",
   "execution_count": 21
  },
  {
   "cell_type": "markdown",
   "source": [
    "Removing background from gif"
   ],
   "metadata": {
    "collapsed": false
   },
   "id": "7f6ff75fbdece0f"
  },
  {
   "cell_type": "code",
   "outputs": [
    {
     "name": "stderr",
     "output_type": "stream",
     "text": [
      "820it [00:20, 40.64it/s]\n"
     ]
    }
   ],
   "source": [
    "gif_path = Path(r'C:\\Users\\thejg\\Desktop\\Studia\\BigDataAnalytics2024\\Seminars\\BoidsFlockingPresentation\\graphics\\slide19black.gif')\n",
    "output_path = Path(r'C:\\Users\\thejg\\Desktop\\Programming\\MediaEditor\\outputs\\GIFS\\RemovingBackground\\slide19.gif')\n",
    "gray_scale = (0, 50)\n",
    "remove_background_from_gif(gif_path, output_path, *gray_scale, 1000 / 30)"
   ],
   "metadata": {
    "collapsed": false,
    "ExecuteTime": {
     "end_time": "2024-05-25T21:55:02.919896100Z",
     "start_time": "2024-05-25T21:54:05.770897100Z"
    }
   },
   "id": "9ff519bf9b8d68ec",
   "execution_count": 11
  },
  {
   "cell_type": "markdown",
   "source": [
    "Rendering latex equation"
   ],
   "metadata": {
    "collapsed": false
   },
   "id": "21ba2a74b0693724"
  },
  {
   "cell_type": "code",
   "outputs": [
    {
     "name": "stderr",
     "output_type": "stream",
     "text": [
      "C:\\Users\\thejg\\Desktop\\Programming\\projects39\\lib\\site-packages\\IPython\\core\\pylabtools.py:152: UserWarning: constrained_layout not applied because axes sizes collapsed to zero.  Try making figure larger or axes decorations smaller.\n",
      "  fig.canvas.print_figure(bytes_io, **kw)\n"
     ]
    },
    {
     "data": {
      "text/plain": "<Figure size 640x480 with 1 Axes>",
      "image/png": "[encoded data removed]"
     },
     "metadata": {},
     "output_type": "display_data"
    }
   ],
   "source": [
    "# equation = r'$r = \\sqrt{(x_1 - x_2)^2 + (y_1 - y_2)^2}$'\n",
    "equation = ''\n",
    "eq_path = Path(r\"./outputs/CodeFormatters/eq2.png\")\n",
    "render_latex_equation(equation, eq_path)"
   ],
   "metadata": {
    "collapsed": false,
    "ExecuteTime": {
     "end_time": "2024-05-25T11:10:17.907467300Z",
     "start_time": "2024-05-25T11:10:17.607470900Z"
    }
   },
   "id": "2cfa766ed9ea8309",
   "execution_count": 2
  },
  {
   "cell_type": "code",
   "outputs": [],
   "source": [
    "sep_code = \"\"\"\n",
    "for boid in self.boids:\n",
    "    if separation_active:\n",
    "        close_dx, close_dy = 0, 0\n",
    "        boid_x, boid_y = boid.body.position\n",
    "        for other in self.boids:\n",
    "            if other is not boid:\n",
    "                other_x, other_y = other.body.position\n",
    "                boid_distance = distance.euclidean(\n",
    "                    boid.body.position, other.body.position)\n",
    "                if boid_distance < self.avoid_range:\n",
    "                    close_dx += boid_x - other_x\n",
    "                    close_dy += boid_y - other_y\n",
    "        separation_vx = close_dx * self.avoid_factor\n",
    "        separation_vy = close_dy * self.avoid_factor\n",
    "        boid.change_velocity(\n",
    "            boid.body.velocity[0] + separation_vx,\n",
    "            boid.body.velocity[1] + separation_vy,\n",
    "            self.speed_max, self.speed_min)\n",
    "\"\"\"\n",
    "format_params = dict(\n",
    "    style='nord-darker', \n",
    "    line_numbers=False, \n",
    "    font_name='Lucida Sans Unicode',\n",
    "    line_pad=6,\n",
    "    font_size=30\n",
    ")\n",
    "gray_scale = (0, 50)\n",
    "save_path = Path(\"./outputs/CodeFormatters/code3.png\")\n",
    "convert_code_to_formatted_font(sep_code, save_path, gray_scale, **format_params)"
   ],
   "metadata": {
    "collapsed": false,
    "ExecuteTime": {
     "end_time": "2024-05-25T12:57:20.401681600Z",
     "start_time": "2024-05-25T12:57:20.298184Z"
    }
   },
   "id": "dc3aa7c9a817cdb2",
   "execution_count": 4
  },
  {
   "cell_type": "code",
   "outputs": [],
   "source": [
    "al_code = \"\"\"\n",
    "for boid in self.boids:\n",
    "    if alignment_active:\n",
    "        vx_avg, vy_avg, neighboring_boids = 0, 0, 0\n",
    "        for other in self.boids:\n",
    "            if other is not boid:\n",
    "                boid_distance = distance.euclidean(\n",
    "                    boid.body.position, other.body.position)\n",
    "                if boid_distance < self.align_range:\n",
    "                    vx_avg += other.body.velocity[0]\n",
    "                    vy_avg += other.body.velocity[1]\n",
    "                    neighboring_boids += 1\n",
    "        alignment_vx, alignment_vy = 0, 0\n",
    "        if neighboring_boids > 0:\n",
    "            alignment_vx = ((vx_avg / neighboring_boids) \n",
    "                - boid.body.velocity[0]) * self.align_factor\n",
    "            alignment_vy = ((vy_avg / neighboring_boids) \n",
    "                - boid.body.velocity[1]) * self.align_factor\n",
    "        boid.change_velocity(\n",
    "            boid.body.velocity[0] + alignment_vx,\n",
    "            boid.body.velocity[1] + alignment_vy,\n",
    "            self.speed_max, self.speed_min)\n",
    "\"\"\"\n",
    "format_params = dict(\n",
    "    style='nord-darker', \n",
    "    line_numbers=False, \n",
    "    font_name='Lucida Sans Unicode',\n",
    "    line_pad=6,\n",
    "    font_size=30\n",
    ")\n",
    "gray_scale = (0, 50)\n",
    "save_path = Path(\"./outputs/CodeFormatters/code4.png\")\n",
    "convert_code_to_formatted_font(al_code, save_path, gray_scale, **format_params)"
   ],
   "metadata": {
    "collapsed": false,
    "ExecuteTime": {
     "end_time": "2024-05-25T15:02:08.092349700Z",
     "start_time": "2024-05-25T15:02:07.967350300Z"
    }
   },
   "id": "e2a1ce3a01fa9aa0",
   "execution_count": 10
  },
  {
   "cell_type": "code",
   "outputs": [],
   "source": [
    "coh_code = \"\"\"\n",
    "for boid in self.boids:\n",
    "    if cohesion_active:\n",
    "        xpos_avg, ypos_avg, neighboring_boids = 0, 0, 0\n",
    "        boid_x, boid_y = boid.body.position\n",
    "        for other in self.boids:\n",
    "            if other is not boid:\n",
    "                other_x, other_y = other.body.position\n",
    "                boid_distance = distance.euclidean(\n",
    "                    boid.body.position, other.body.position)\n",
    "                if boid_distance < self.cohesion_range:\n",
    "                    xpos_avg += other_x\n",
    "                    ypos_avg += other_y\n",
    "                    neighboring_boids += 1\n",
    "        cohesion_vx, cohesion_vy = 0, 0\n",
    "        if neighboring_boids > 0 and cohesion_active:\n",
    "            cohesion_vx = ((xpos_avg / neighboring_boids)\n",
    "                           - boid_x) * self.cohesion_factor\n",
    "            cohesion_vy = ((ypos_avg / neighboring_boids)\n",
    "                           - boid_y) * self.cohesion_factor\n",
    "        boid.change_velocity(\n",
    "            boid.body.velocity[0] + cohesion_vx,\n",
    "            boid.body.velocity[1] + cohesion_vy,\n",
    "            self.speed_max, self.speed_min)\n",
    "\"\"\"\n",
    "format_params = dict(\n",
    "    style='nord-darker', \n",
    "    line_numbers=False, \n",
    "    font_name='Lucida Sans Unicode',\n",
    "    line_pad=6,\n",
    "    font_size=30\n",
    ")\n",
    "gray_scale = (0, 50)\n",
    "save_path = Path(\"./outputs/CodeFormatters/code5.png\")\n",
    "convert_code_to_formatted_font(coh_code, save_path, gray_scale, **format_params)"
   ],
   "metadata": {
    "collapsed": false,
    "ExecuteTime": {
     "end_time": "2024-05-25T16:33:14.815712700Z",
     "start_time": "2024-05-25T16:33:14.677712200Z"
    }
   },
   "id": "440fe1e8eb8144ea",
   "execution_count": 11
  },
  {
   "cell_type": "code",
   "outputs": [],
   "source": [],
   "metadata": {
    "collapsed": false
   },
   "id": "602485979b77d3b3"
  }
 ],
 "metadata": {
  "kernelspec": {
   "display_name": "Python 3",
   "language": "python",
   "name": "python3"
  },
  "language_info": {
   "codemirror_mode": {
    "name": "ipython",
    "version": 2
   },
   "file_extension": ".py",
   "mimetype": "text/x-python",
   "name": "python",
   "nbconvert_exporter": "python",
   "pygments_lexer": "ipython2",
   "version": "2.7.6"
  }
 },
 "nbformat": 4,
 "nbformat_minor": 5
}
